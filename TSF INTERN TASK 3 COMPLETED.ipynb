{
 "cells": [
  {
   "cell_type": "markdown",
   "id": "146818c2",
   "metadata": {},
   "source": [
    "# Name- Rahul Mohaniya\n",
    " "
   ]
  },
  {
   "cell_type": "markdown",
   "id": "3ffc7e32",
   "metadata": {},
   "source": [
    "# DATA ANALYSIS ON A US RETAIL FIRM \n",
    "# TSF INTERN TASK 3\n",
    " "
   ]
  },
  {
   "cell_type": "markdown",
   "id": "b8242466",
   "metadata": {},
   "source": [
    "importing the libraries"
   ]
  },
  {
   "cell_type": "code",
   "execution_count": 17,
   "id": "43cc204e",
   "metadata": {},
   "outputs": [],
   "source": [
    "import math\n",
    "import warnings\n",
    "import numpy as np \n",
    "import pandas as pd # data processing, CSV file I/O (e.g. pd.read_csv)\n",
    "import seaborn as sns\n",
    "import matplotlib.pyplot as plt\n",
    "warnings.filterwarnings('ignore')"
   ]
  },
  {
   "cell_type": "markdown",
   "id": "3f862b8c",
   "metadata": {},
   "source": [
    "#LOADING THE DATA"
   ]
  },
  {
   "cell_type": "code",
   "execution_count": 8,
   "id": "e59612a0",
   "metadata": {},
   "outputs": [],
   "source": [
    "df = pd.read_csv('E:\\Global Terrorism - START data\\SampleSuperstore.csv')"
   ]
  },
  {
   "cell_type": "code",
   "execution_count": 9,
   "id": "a1514469",
   "metadata": {},
   "outputs": [
    {
     "data": {
      "text/html": [
       "<div>\n",
       "<style scoped>\n",
       "    .dataframe tbody tr th:only-of-type {\n",
       "        vertical-align: middle;\n",
       "    }\n",
       "\n",
       "    .dataframe tbody tr th {\n",
       "        vertical-align: top;\n",
       "    }\n",
       "\n",
       "    .dataframe thead th {\n",
       "        text-align: right;\n",
       "    }\n",
       "</style>\n",
       "<table border=\"1\" class=\"dataframe\">\n",
       "  <thead>\n",
       "    <tr style=\"text-align: right;\">\n",
       "      <th></th>\n",
       "      <th>Ship Mode</th>\n",
       "      <th>Segment</th>\n",
       "      <th>Country</th>\n",
       "      <th>City</th>\n",
       "      <th>State</th>\n",
       "      <th>Postal Code</th>\n",
       "      <th>Region</th>\n",
       "      <th>Category</th>\n",
       "      <th>Sub-Category</th>\n",
       "      <th>Sales</th>\n",
       "      <th>Quantity</th>\n",
       "      <th>Discount</th>\n",
       "      <th>Profit</th>\n",
       "    </tr>\n",
       "  </thead>\n",
       "  <tbody>\n",
       "    <tr>\n",
       "      <th>0</th>\n",
       "      <td>Second Class</td>\n",
       "      <td>Consumer</td>\n",
       "      <td>United States</td>\n",
       "      <td>Henderson</td>\n",
       "      <td>Kentucky</td>\n",
       "      <td>42420</td>\n",
       "      <td>South</td>\n",
       "      <td>Furniture</td>\n",
       "      <td>Bookcases</td>\n",
       "      <td>261.9600</td>\n",
       "      <td>2</td>\n",
       "      <td>0.00</td>\n",
       "      <td>41.9136</td>\n",
       "    </tr>\n",
       "    <tr>\n",
       "      <th>1</th>\n",
       "      <td>Second Class</td>\n",
       "      <td>Consumer</td>\n",
       "      <td>United States</td>\n",
       "      <td>Henderson</td>\n",
       "      <td>Kentucky</td>\n",
       "      <td>42420</td>\n",
       "      <td>South</td>\n",
       "      <td>Furniture</td>\n",
       "      <td>Chairs</td>\n",
       "      <td>731.9400</td>\n",
       "      <td>3</td>\n",
       "      <td>0.00</td>\n",
       "      <td>219.5820</td>\n",
       "    </tr>\n",
       "    <tr>\n",
       "      <th>2</th>\n",
       "      <td>Second Class</td>\n",
       "      <td>Corporate</td>\n",
       "      <td>United States</td>\n",
       "      <td>Los Angeles</td>\n",
       "      <td>California</td>\n",
       "      <td>90036</td>\n",
       "      <td>West</td>\n",
       "      <td>Office Supplies</td>\n",
       "      <td>Labels</td>\n",
       "      <td>14.6200</td>\n",
       "      <td>2</td>\n",
       "      <td>0.00</td>\n",
       "      <td>6.8714</td>\n",
       "    </tr>\n",
       "    <tr>\n",
       "      <th>3</th>\n",
       "      <td>Standard Class</td>\n",
       "      <td>Consumer</td>\n",
       "      <td>United States</td>\n",
       "      <td>Fort Lauderdale</td>\n",
       "      <td>Florida</td>\n",
       "      <td>33311</td>\n",
       "      <td>South</td>\n",
       "      <td>Furniture</td>\n",
       "      <td>Tables</td>\n",
       "      <td>957.5775</td>\n",
       "      <td>5</td>\n",
       "      <td>0.45</td>\n",
       "      <td>-383.0310</td>\n",
       "    </tr>\n",
       "    <tr>\n",
       "      <th>4</th>\n",
       "      <td>Standard Class</td>\n",
       "      <td>Consumer</td>\n",
       "      <td>United States</td>\n",
       "      <td>Fort Lauderdale</td>\n",
       "      <td>Florida</td>\n",
       "      <td>33311</td>\n",
       "      <td>South</td>\n",
       "      <td>Office Supplies</td>\n",
       "      <td>Storage</td>\n",
       "      <td>22.3680</td>\n",
       "      <td>2</td>\n",
       "      <td>0.20</td>\n",
       "      <td>2.5164</td>\n",
       "    </tr>\n",
       "  </tbody>\n",
       "</table>\n",
       "</div>"
      ],
      "text/plain": [
       "        Ship Mode    Segment        Country             City       State  \\\n",
       "0    Second Class   Consumer  United States        Henderson    Kentucky   \n",
       "1    Second Class   Consumer  United States        Henderson    Kentucky   \n",
       "2    Second Class  Corporate  United States      Los Angeles  California   \n",
       "3  Standard Class   Consumer  United States  Fort Lauderdale     Florida   \n",
       "4  Standard Class   Consumer  United States  Fort Lauderdale     Florida   \n",
       "\n",
       "   Postal Code Region         Category Sub-Category     Sales  Quantity  \\\n",
       "0        42420  South        Furniture    Bookcases  261.9600         2   \n",
       "1        42420  South        Furniture       Chairs  731.9400         3   \n",
       "2        90036   West  Office Supplies       Labels   14.6200         2   \n",
       "3        33311  South        Furniture       Tables  957.5775         5   \n",
       "4        33311  South  Office Supplies      Storage   22.3680         2   \n",
       "\n",
       "   Discount    Profit  \n",
       "0      0.00   41.9136  \n",
       "1      0.00  219.5820  \n",
       "2      0.00    6.8714  \n",
       "3      0.45 -383.0310  \n",
       "4      0.20    2.5164  "
      ]
     },
     "execution_count": 9,
     "metadata": {},
     "output_type": "execute_result"
    }
   ],
   "source": [
    "df.head()"
   ]
  },
  {
   "cell_type": "code",
   "execution_count": 12,
   "id": "123c3d3b",
   "metadata": {},
   "outputs": [
    {
     "name": "stdout",
     "output_type": "stream",
     "text": [
      "(9994, 13)\n",
      "['Ship Mode', 'Segment', 'Country', 'City', 'State', 'Postal Code', 'Region', 'Category', 'Sub-Category', 'Sales', 'Quantity', 'Discount', 'Profit']\n"
     ]
    }
   ],
   "source": [
    "print(df.shape)\n",
    "print(df.columns.tolist())"
   ]
  },
  {
   "cell_type": "markdown",
   "id": "9a9e0537",
   "metadata": {},
   "source": [
    "# DATA PREPROCESSING\n",
    "Let's Check if dataset contain null values"
   ]
  },
  {
   "cell_type": "code",
   "execution_count": 19,
   "id": "55f84a1e",
   "metadata": {},
   "outputs": [
    {
     "data": {
      "text/plain": [
       "Ship Mode       0\n",
       "Segment         0\n",
       "Country         0\n",
       "City            0\n",
       "State           0\n",
       "Postal Code     0\n",
       "Region          0\n",
       "Category        0\n",
       "Sub-Category    0\n",
       "Sales           0\n",
       "Quantity        0\n",
       "Discount        0\n",
       "Profit          0\n",
       "dtype: int64"
      ]
     },
     "execution_count": 19,
     "metadata": {},
     "output_type": "execute_result"
    }
   ],
   "source": [
    "df.isnull().sum()"
   ]
  },
  {
   "cell_type": "markdown",
   "id": "9d2223f5",
   "metadata": {},
   "source": [
    "let's check if data contain any duplicate values"
   ]
  },
  {
   "cell_type": "code",
   "execution_count": 21,
   "id": "68240895",
   "metadata": {},
   "outputs": [
    {
     "data": {
      "text/plain": [
       "17"
      ]
     },
     "execution_count": 21,
     "metadata": {},
     "output_type": "execute_result"
    }
   ],
   "source": [
    "df.duplicated().sum()"
   ]
  },
  {
   "cell_type": "markdown",
   "id": "2b5914d2",
   "metadata": {},
   "source": [
    "Deleting duplicate data "
   ]
  },
  {
   "cell_type": "code",
   "execution_count": 22,
   "id": "ab38d972",
   "metadata": {},
   "outputs": [
    {
     "data": {
      "text/plain": [
       "(9977, 13)"
      ]
     },
     "execution_count": 22,
     "metadata": {},
     "output_type": "execute_result"
    }
   ],
   "source": [
    "df.drop_duplicates(keep='first', inplace=True)\n",
    "df.shape"
   ]
  },
  {
   "cell_type": "code",
   "execution_count": 24,
   "id": "201611f8",
   "metadata": {},
   "outputs": [
    {
     "name": "stdout",
     "output_type": "stream",
     "text": [
      "Ship Mode  :  ['Second Class', 'Standard Class', 'First Class', 'Same Day']\n",
      "Segment  :  ['Consumer', 'Corporate', 'Home Office']\n",
      "Country  :  ['United States']\n",
      "State  :  ['Kentucky', 'California', 'Florida', 'North Carolina', 'Washington', 'Texas', 'Wisconsin', 'Utah', 'Nebraska', 'Pennsylvania', 'Illinois', 'Minnesota', 'Michigan', 'Delaware', 'Indiana', 'New York', 'Arizona', 'Virginia', 'Tennessee', 'Alabama', 'South Carolina', 'Oregon', 'Colorado', 'Iowa', 'Ohio', 'Missouri', 'Oklahoma', 'New Mexico', 'Louisiana', 'Connecticut', 'New Jersey', 'Massachusetts', 'Georgia', 'Nevada', 'Rhode Island', 'Mississippi', 'Arkansas', 'Montana', 'New Hampshire', 'Maryland', 'District of Columbia', 'Kansas', 'Vermont', 'Maine', 'South Dakota', 'Idaho', 'North Dakota', 'Wyoming', 'West Virginia']\n",
      "Region  :  ['South', 'West', 'Central', 'East']\n",
      "Category  :  ['Furniture', 'Office Supplies', 'Technology']\n",
      "Sub-Category  :  ['Bookcases', 'Chairs', 'Labels', 'Tables', 'Storage', 'Furnishings', 'Art', 'Phones', 'Binders', 'Appliances', 'Paper', 'Accessories', 'Envelopes', 'Fasteners', 'Supplies', 'Machines', 'Copiers']\n",
      "Quantity  :  [2, 3, 5, 7, 4, 6, 9, 1, 8, 14, 11, 13, 10, 12]\n",
      "Discount  :  [0.0, 0.45, 0.2, 0.8, 0.3, 0.5, 0.7, 0.6, 0.32, 0.1, 0.4, 0.15]\n"
     ]
    }
   ],
   "source": [
    "for column in df.columns.tolist():\n",
    "    if len(df[column].unique())< 50:\n",
    "        print(column,' : ' ,df[column].unique().tolist())"
   ]
  },
  {
   "cell_type": "markdown",
   "id": "7575723a",
   "metadata": {},
   "source": [
    "DROP THE COUNTRY COLUMN BECAUSE IT HAS ONLY ONE VALUES"
   ]
  },
  {
   "cell_type": "code",
   "execution_count": 26,
   "id": "ed20e7e0",
   "metadata": {},
   "outputs": [
    {
     "data": {
      "text/html": [
       "<div>\n",
       "<style scoped>\n",
       "    .dataframe tbody tr th:only-of-type {\n",
       "        vertical-align: middle;\n",
       "    }\n",
       "\n",
       "    .dataframe tbody tr th {\n",
       "        vertical-align: top;\n",
       "    }\n",
       "\n",
       "    .dataframe thead th {\n",
       "        text-align: right;\n",
       "    }\n",
       "</style>\n",
       "<table border=\"1\" class=\"dataframe\">\n",
       "  <thead>\n",
       "    <tr style=\"text-align: right;\">\n",
       "      <th></th>\n",
       "      <th>Ship Mode</th>\n",
       "      <th>Segment</th>\n",
       "      <th>City</th>\n",
       "      <th>State</th>\n",
       "      <th>Postal Code</th>\n",
       "      <th>Region</th>\n",
       "      <th>Category</th>\n",
       "      <th>Sub-Category</th>\n",
       "      <th>Sales</th>\n",
       "      <th>Quantity</th>\n",
       "      <th>Discount</th>\n",
       "      <th>Profit</th>\n",
       "    </tr>\n",
       "  </thead>\n",
       "  <tbody>\n",
       "    <tr>\n",
       "      <th>0</th>\n",
       "      <td>Second Class</td>\n",
       "      <td>Consumer</td>\n",
       "      <td>Henderson</td>\n",
       "      <td>Kentucky</td>\n",
       "      <td>42420</td>\n",
       "      <td>South</td>\n",
       "      <td>Furniture</td>\n",
       "      <td>Bookcases</td>\n",
       "      <td>261.9600</td>\n",
       "      <td>2</td>\n",
       "      <td>0.00</td>\n",
       "      <td>41.9136</td>\n",
       "    </tr>\n",
       "    <tr>\n",
       "      <th>1</th>\n",
       "      <td>Second Class</td>\n",
       "      <td>Consumer</td>\n",
       "      <td>Henderson</td>\n",
       "      <td>Kentucky</td>\n",
       "      <td>42420</td>\n",
       "      <td>South</td>\n",
       "      <td>Furniture</td>\n",
       "      <td>Chairs</td>\n",
       "      <td>731.9400</td>\n",
       "      <td>3</td>\n",
       "      <td>0.00</td>\n",
       "      <td>219.5820</td>\n",
       "    </tr>\n",
       "    <tr>\n",
       "      <th>2</th>\n",
       "      <td>Second Class</td>\n",
       "      <td>Corporate</td>\n",
       "      <td>Los Angeles</td>\n",
       "      <td>California</td>\n",
       "      <td>90036</td>\n",
       "      <td>West</td>\n",
       "      <td>Office Supplies</td>\n",
       "      <td>Labels</td>\n",
       "      <td>14.6200</td>\n",
       "      <td>2</td>\n",
       "      <td>0.00</td>\n",
       "      <td>6.8714</td>\n",
       "    </tr>\n",
       "    <tr>\n",
       "      <th>3</th>\n",
       "      <td>Standard Class</td>\n",
       "      <td>Consumer</td>\n",
       "      <td>Fort Lauderdale</td>\n",
       "      <td>Florida</td>\n",
       "      <td>33311</td>\n",
       "      <td>South</td>\n",
       "      <td>Furniture</td>\n",
       "      <td>Tables</td>\n",
       "      <td>957.5775</td>\n",
       "      <td>5</td>\n",
       "      <td>0.45</td>\n",
       "      <td>-383.0310</td>\n",
       "    </tr>\n",
       "    <tr>\n",
       "      <th>4</th>\n",
       "      <td>Standard Class</td>\n",
       "      <td>Consumer</td>\n",
       "      <td>Fort Lauderdale</td>\n",
       "      <td>Florida</td>\n",
       "      <td>33311</td>\n",
       "      <td>South</td>\n",
       "      <td>Office Supplies</td>\n",
       "      <td>Storage</td>\n",
       "      <td>22.3680</td>\n",
       "      <td>2</td>\n",
       "      <td>0.20</td>\n",
       "      <td>2.5164</td>\n",
       "    </tr>\n",
       "  </tbody>\n",
       "</table>\n",
       "</div>"
      ],
      "text/plain": [
       "        Ship Mode    Segment             City       State  Postal Code Region  \\\n",
       "0    Second Class   Consumer        Henderson    Kentucky        42420  South   \n",
       "1    Second Class   Consumer        Henderson    Kentucky        42420  South   \n",
       "2    Second Class  Corporate      Los Angeles  California        90036   West   \n",
       "3  Standard Class   Consumer  Fort Lauderdale     Florida        33311  South   \n",
       "4  Standard Class   Consumer  Fort Lauderdale     Florida        33311  South   \n",
       "\n",
       "          Category Sub-Category     Sales  Quantity  Discount    Profit  \n",
       "0        Furniture    Bookcases  261.9600         2      0.00   41.9136  \n",
       "1        Furniture       Chairs  731.9400         3      0.00  219.5820  \n",
       "2  Office Supplies       Labels   14.6200         2      0.00    6.8714  \n",
       "3        Furniture       Tables  957.5775         5      0.45 -383.0310  \n",
       "4  Office Supplies      Storage   22.3680         2      0.20    2.5164  "
      ]
     },
     "execution_count": 26,
     "metadata": {},
     "output_type": "execute_result"
    }
   ],
   "source": [
    "df.drop(columns ='Country', inplace= True)\n",
    "df.head()"
   ]
  },
  {
   "cell_type": "markdown",
   "id": "0e5b1141",
   "metadata": {},
   "source": [
    "# Exploratory data analysis \n",
    "Now, let's visualise the count plot and Bar Plots for Sales and Profit for the columns: Ship Mode, Segment, Region, and Category."
   ]
  },
  {
   "cell_type": "code",
   "execution_count": 32,
   "id": "2a8f33d7",
   "metadata": {},
   "outputs": [
    {
     "data": {
      "image/png": "[encoded data removed]",
      "text/plain": [
       "<Figure size 1440x288 with 3 Axes>"
      ]
     },
     "metadata": {
      "needs_background": "light"
     },
     "output_type": "display_data"
    }
   ],
   "source": [
    "f, ax = plt.subplots(1, 3, figsize=(20,4))\n",
    "sns.countplot(df['Ship Mode'], color = 'steelblue', order = df['Ship Mode'].value_counts().index, ax=ax[0])\n",
    "ax[0].title.set_text(\"Orders Count of ship mode\")\n",
    "ax[0].set_xlabel(\"Ship Mode\")\n",
    "ax[0].set_ylabel(\"Orders\")\n",
    "\n",
    "ship_sale_profit = df.groupby('Ship Mode')[['Sales', 'Profit']].sum()\n",
    "ship_sale_profit.sort_values(['Sales'], axis = 0, ascending = False, inplace = True) \n",
    "ship_sale_profit.plot(y='Sales', kind = \"bar\", color = 'steelblue', ax=ax[1])\n",
    "\n",
    "ax[1].title.set_text('Sales in each Ship Mode')\n",
    "ax[1].set_xlabel('Ship Mode')\n",
    "ax[1].set_ylabel('Sales')\n",
    "ax[1].get_legend().remove()\n",
    "\n",
    "ship_sale_profit.sort_values(['Profit'], axis = 0, ascending = False, inplace = False) \n",
    "ship_sale_profit.plot(y='Profit', kind = \"bar\", color = 'steelblue', ax=ax[2])\n",
    "\n",
    "ax[2].title.set_text('Profit in each Ship Mode')\n",
    "ax[2].set_xlabel('Ship Mode')\n",
    "ax[2].set_ylabel('Profit')\n",
    "ax[2].get_legend().remove()\n",
    "\n",
    "f.autofmt_xdate(rotation=0, ha='center')\n",
    "plt.show()\n",
    "\n",
    "\n"
   ]
  },
  {
   "cell_type": "markdown",
   "id": "d7944af1",
   "metadata": {},
   "source": [
    "We observe that Standard Class is the most popular shipping mode and Same Day is the least popular. Because Standard Class has the most shipments and it is a cheap shipping mode, it makes sense for it to be the most profitable"
   ]
  },
  {
   "cell_type": "code",
   "execution_count": 68,
   "id": "cd313fa1",
   "metadata": {},
   "outputs": [
    {
     "data": {
      "image/png": "[encoded data removed]",
      "text/plain": [
       "<Figure size 1440x288 with 3 Axes>"
      ]
     },
     "metadata": {
      "needs_background": "light"
     },
     "output_type": "display_data"
    },
    {
     "data": {
      "text/html": [
       "<div>\n",
       "<style scoped>\n",
       "    .dataframe tbody tr th:only-of-type {\n",
       "        vertical-align: middle;\n",
       "    }\n",
       "\n",
       "    .dataframe tbody tr th {\n",
       "        vertical-align: top;\n",
       "    }\n",
       "\n",
       "    .dataframe thead th {\n",
       "        text-align: right;\n",
       "    }\n",
       "</style>\n",
       "<table border=\"1\" class=\"dataframe\">\n",
       "  <thead>\n",
       "    <tr style=\"text-align: right;\">\n",
       "      <th></th>\n",
       "      <th>Sales</th>\n",
       "      <th>Profit</th>\n",
       "    </tr>\n",
       "    <tr>\n",
       "      <th>Segment</th>\n",
       "      <th></th>\n",
       "      <th></th>\n",
       "    </tr>\n",
       "  </thead>\n",
       "  <tbody>\n",
       "    <tr>\n",
       "      <th>Consumer</th>\n",
       "      <td>1.160833e+06</td>\n",
       "      <td>134007.4413</td>\n",
       "    </tr>\n",
       "    <tr>\n",
       "      <th>Corporate</th>\n",
       "      <td>7.060701e+05</td>\n",
       "      <td>91954.9798</td>\n",
       "    </tr>\n",
       "    <tr>\n",
       "      <th>Home Office</th>\n",
       "      <td>4.292927e+05</td>\n",
       "      <td>60279.0015</td>\n",
       "    </tr>\n",
       "  </tbody>\n",
       "</table>\n",
       "</div>"
      ],
      "text/plain": [
       "                    Sales       Profit\n",
       "Segment                               \n",
       "Consumer     1.160833e+06  134007.4413\n",
       "Corporate    7.060701e+05   91954.9798\n",
       "Home Office  4.292927e+05   60279.0015"
      ]
     },
     "execution_count": 68,
     "metadata": {},
     "output_type": "execute_result"
    }
   ],
   "source": [
    " f, ax = plt.subplots(1, 3, figsize=(20,4))\n",
    "\n",
    "sns.countplot(df['Segment'], color = 'limegreen', order = df['Segment'].value_counts().index, ax=ax[0])\n",
    "ax[0].title.set_text(\"Order Count of Segment\")\n",
    "ax[0].set_xlabel(\"Segment\")\n",
    "ax[0].set_ylabel(\"Orders\")\n",
    "\n",
    "\n",
    "segment_sale_profit = df.groupby('Segment')[['Sales', 'Profit']].sum()\n",
    "\n",
    "segment_sale_profit.sort_values(['Sales'], axis = 0, ascending = False, inplace = True) \n",
    "segment_sale_profit.plot(y='Sales', kind = \"bar\", color = 'limegreen', ax=ax[1])\n",
    "\n",
    "ax[1].title.set_text('Sales in each Segment')\n",
    "ax[1].set_xlabel('Segment')\n",
    "ax[1].set_ylabel('Sales')\n",
    "ax[1].get_legend().remove()\n",
    "\n",
    "\n",
    "segment_sale_profit.sort_values(['Profit'], axis = 0, ascending = False, inplace = True) \n",
    "segment_sale_profit.plot(y='Profit', kind = \"bar\", color = 'limegreen', ax=ax[2])\n",
    "\n",
    "ax[2].title.set_text('Profit in each Segment')\n",
    "ax[2].set_xlabel('Segment')\n",
    "ax[2].set_ylabel('Profit')\n",
    "ax[2].get_legend().remove()\n",
    "\n",
    "f.autofmt_xdate(rotation=0, ha='center')\n",
    "plt.show()\n",
    "segment_sale_profit.head()\n"
   ]
  },
  {
   "cell_type": "markdown",
   "id": "90019627",
   "metadata": {},
   "source": [
    "We observe that Consumer is the major segment, while Home Office contributes the least."
   ]
  },
  {
   "cell_type": "code",
   "execution_count": 69,
   "id": "11da8fa3",
   "metadata": {},
   "outputs": [
    {
     "data": {
      "image/png": "[encoded data removed]",
      "text/plain": [
       "<Figure size 1440x288 with 3 Axes>"
      ]
     },
     "metadata": {
      "needs_background": "light"
     },
     "output_type": "display_data"
    },
    {
     "data": {
      "text/html": [
       "<div>\n",
       "<style scoped>\n",
       "    .dataframe tbody tr th:only-of-type {\n",
       "        vertical-align: middle;\n",
       "    }\n",
       "\n",
       "    .dataframe tbody tr th {\n",
       "        vertical-align: top;\n",
       "    }\n",
       "\n",
       "    .dataframe thead th {\n",
       "        text-align: right;\n",
       "    }\n",
       "</style>\n",
       "<table border=\"1\" class=\"dataframe\">\n",
       "  <thead>\n",
       "    <tr style=\"text-align: right;\">\n",
       "      <th></th>\n",
       "      <th>Sales</th>\n",
       "      <th>Profit</th>\n",
       "    </tr>\n",
       "    <tr>\n",
       "      <th>Region</th>\n",
       "      <th></th>\n",
       "      <th></th>\n",
       "    </tr>\n",
       "  </thead>\n",
       "  <tbody>\n",
       "    <tr>\n",
       "      <th>West</th>\n",
       "      <td>725255.6365</td>\n",
       "      <td>108329.8079</td>\n",
       "    </tr>\n",
       "    <tr>\n",
       "      <th>East</th>\n",
       "      <td>678435.1960</td>\n",
       "      <td>91506.3092</td>\n",
       "    </tr>\n",
       "    <tr>\n",
       "      <th>South</th>\n",
       "      <td>391721.9050</td>\n",
       "      <td>46749.4303</td>\n",
       "    </tr>\n",
       "    <tr>\n",
       "      <th>Central</th>\n",
       "      <td>500782.8528</td>\n",
       "      <td>39655.8752</td>\n",
       "    </tr>\n",
       "  </tbody>\n",
       "</table>\n",
       "</div>"
      ],
      "text/plain": [
       "               Sales       Profit\n",
       "Region                           \n",
       "West     725255.6365  108329.8079\n",
       "East     678435.1960   91506.3092\n",
       "South    391721.9050   46749.4303\n",
       "Central  500782.8528   39655.8752"
      ]
     },
     "execution_count": 69,
     "metadata": {},
     "output_type": "execute_result"
    }
   ],
   "source": [
    "f, ax = plt.subplots(1, 3, figsize=(20,4))\n",
    "\n",
    "sns.countplot(df['Region'], color = 'darkorange', order = df['Region'].value_counts().index, ax=ax[0])\n",
    "ax[0].title.set_text(\"Order Count of Region\")\n",
    "ax[0].set_xlabel(\"Region\")\n",
    "ax[0].set_ylabel(\"Orders\")\n",
    "\n",
    "\n",
    "region_sale_profit = df.groupby('Region')[['Sales', 'Profit']].sum()\n",
    "\n",
    "region_sale_profit.sort_values(['Sales'], axis = 0, ascending = False, inplace = True) \n",
    "region_sale_profit.plot(y='Sales', kind = \"bar\", color = 'darkorange', ax=ax[1])\n",
    "\n",
    "ax[1].title.set_text('Sales in each Region')\n",
    "ax[1].set_xlabel('Region')\n",
    "ax[1].set_ylabel('Sales')\n",
    "ax[1].get_legend().remove()\n",
    "\n",
    "\n",
    "region_sale_profit.sort_values(['Profit'], axis = 0, ascending = False, inplace = True) \n",
    "region_sale_profit.plot(y='Profit', kind = \"bar\", color = 'darkorange', ax=ax[2])\n",
    "\n",
    "ax[2].title.set_text('Profit in each Region')\n",
    "ax[2].set_xlabel('Region')\n",
    "ax[2].set_ylabel('Profit')\n",
    "ax[2].get_legend().remove()\n",
    "\n",
    "f.autofmt_xdate(rotation=0, ha='center')\n",
    "plt.show()\n",
    "region_sale_profit.head()"
   ]
  },
  {
   "cell_type": "markdown",
   "id": "fa4b9edc",
   "metadata": {},
   "source": [
    "We observe that West consists of most buyers while South consists of the least. Central region is the least profitable."
   ]
  },
  {
   "cell_type": "code",
   "execution_count": 70,
   "id": "34ccc523",
   "metadata": {},
   "outputs": [
    {
     "data": {
      "image/png": "[encoded data removed]",
      "text/plain": [
       "<Figure size 1440x288 with 3 Axes>"
      ]
     },
     "metadata": {
      "needs_background": "light"
     },
     "output_type": "display_data"
    },
    {
     "data": {
      "text/html": [
       "<div>\n",
       "<style scoped>\n",
       "    .dataframe tbody tr th:only-of-type {\n",
       "        vertical-align: middle;\n",
       "    }\n",
       "\n",
       "    .dataframe tbody tr th {\n",
       "        vertical-align: top;\n",
       "    }\n",
       "\n",
       "    .dataframe thead th {\n",
       "        text-align: right;\n",
       "    }\n",
       "</style>\n",
       "<table border=\"1\" class=\"dataframe\">\n",
       "  <thead>\n",
       "    <tr style=\"text-align: right;\">\n",
       "      <th></th>\n",
       "      <th>Sales</th>\n",
       "      <th>Profit</th>\n",
       "    </tr>\n",
       "    <tr>\n",
       "      <th>Category</th>\n",
       "      <th></th>\n",
       "      <th></th>\n",
       "    </tr>\n",
       "  </thead>\n",
       "  <tbody>\n",
       "    <tr>\n",
       "      <th>Technology</th>\n",
       "      <td>836154.0330</td>\n",
       "      <td>145454.9481</td>\n",
       "    </tr>\n",
       "    <tr>\n",
       "      <th>Office Supplies</th>\n",
       "      <td>718735.2440</td>\n",
       "      <td>122364.6608</td>\n",
       "    </tr>\n",
       "    <tr>\n",
       "      <th>Furniture</th>\n",
       "      <td>741306.3133</td>\n",
       "      <td>18421.8137</td>\n",
       "    </tr>\n",
       "  </tbody>\n",
       "</table>\n",
       "</div>"
      ],
      "text/plain": [
       "                       Sales       Profit\n",
       "Category                                 \n",
       "Technology       836154.0330  145454.9481\n",
       "Office Supplies  718735.2440  122364.6608\n",
       "Furniture        741306.3133   18421.8137"
      ]
     },
     "execution_count": 70,
     "metadata": {},
     "output_type": "execute_result"
    }
   ],
   "source": [
    "f, ax = plt.subplots(1, 3, figsize=(20,4))\n",
    "\n",
    "sns.countplot(df['Category'], color = 'rebeccapurple', order = df['Category'].value_counts().index, ax=ax[0])\n",
    "ax[0].title.set_text(\"Order Count of Category\")\n",
    "ax[0].set_xlabel(\"Category\")\n",
    "ax[0].set_ylabel(\"Orders\")\n",
    "\n",
    "\n",
    "category_sale_profit = df.groupby('Category')[['Sales', 'Profit']].sum()\n",
    "\n",
    "category_sale_profit.sort_values(['Sales'], axis = 0, ascending = False, inplace = True) \n",
    "category_sale_profit.plot(y='Sales', kind = \"bar\", color = 'rebeccapurple', ax=ax[1])\n",
    "\n",
    "ax[1].title.set_text('Sales in each Category')\n",
    "ax[1].set_xlabel('Category')\n",
    "ax[1].set_ylabel('Sales')\n",
    "ax[1].get_legend().remove()\n",
    "\n",
    "\n",
    "category_sale_profit.sort_values(['Profit'], axis = 0, ascending = False, inplace = True)\n",
    "category_sale_profit.plot(y='Profit', kind = \"bar\", color = 'rebeccapurple', ax=ax[2])\n",
    "\n",
    "ax[2].title.set_text('Profit in each Category')\n",
    "ax[2].set_xlabel('Category')\n",
    "ax[2].set_ylabel('Profit')\n",
    "ax[2].get_legend().remove()\n",
    "\n",
    "f.autofmt_xdate(rotation=0, ha='center')\n",
    "plt.show()\n",
    "category_sale_profit.head()"
   ]
  },
  {
   "cell_type": "markdown",
   "id": "bcc96c9a",
   "metadata": {},
   "source": [
    "We observe that the frequency of purchases in the Office Supplies category is significantly large as compared to Technology and Furniture. However, the sales amount for Technology is the highest, which makes sense because technological equipments are expensive, thus resulting in a larger sales despite a lower frequency of purchase. When we observe the Profit graph, we can see that Technology brings in the highest profit. But, the profit brought in by Furniture is very low considering that it has the second-highest sales, only a little different from Office Supplies. But, Office Supplies results in good profit.\n",
    "\n",
    "Now, let's visualise the count plot for State."
   ]
  },
  {
   "cell_type": "code",
   "execution_count": 41,
   "id": "56ec3529",
   "metadata": {},
   "outputs": [
    {
     "data": {
      "image/png": "[encoded data removed]",
      "text/plain": [
       "<Figure size 1440x576 with 1 Axes>"
      ]
     },
     "metadata": {
      "needs_background": "light"
     },
     "output_type": "display_data"
    }
   ],
   "source": [
    "plt.figure(figsize=(20,8))\n",
    "sns.countplot(df['State'], order = df['State'].value_counts().index, palette = 'plasma')\n",
    "\n",
    "plt.title(\"Order Count for States\")\n",
    "plt.xticks(rotation=90)\n",
    "plt.xlabel(\"State\")\n",
    "plt.ylabel(\"Count\")\n",
    "plt.show()"
   ]
  },
  {
   "cell_type": "markdown",
   "id": "ee6ad716",
   "metadata": {},
   "source": [
    "We observe that California has the highest buyers, almost double New York, which has the second-highest buyers. Wyoming has the least buyers.\n",
    "\n",
    "Let's check out the sales and profit for each state with the help of a double bar graph."
   ]
  },
  {
   "cell_type": "code",
   "execution_count": 57,
   "id": "ecb2ab4a",
   "metadata": {},
   "outputs": [
    {
     "data": {
      "image/png": "[encoded data removed]",
      "text/plain": [
       "<Figure size 1800x864 with 1 Axes>"
      ]
     },
     "metadata": {
      "needs_background": "light"
     },
     "output_type": "display_data"
    },
    {
     "data": {
      "text/html": [
       "<div>\n",
       "<style scoped>\n",
       "    .dataframe tbody tr th:only-of-type {\n",
       "        vertical-align: middle;\n",
       "    }\n",
       "\n",
       "    .dataframe tbody tr th {\n",
       "        vertical-align: top;\n",
       "    }\n",
       "\n",
       "    .dataframe thead th {\n",
       "        text-align: right;\n",
       "    }\n",
       "</style>\n",
       "<table border=\"1\" class=\"dataframe\">\n",
       "  <thead>\n",
       "    <tr style=\"text-align: right;\">\n",
       "      <th></th>\n",
       "      <th>Sales</th>\n",
       "      <th>Profit</th>\n",
       "    </tr>\n",
       "    <tr>\n",
       "      <th>State</th>\n",
       "      <th></th>\n",
       "      <th></th>\n",
       "    </tr>\n",
       "  </thead>\n",
       "  <tbody>\n",
       "    <tr>\n",
       "      <th>California</th>\n",
       "      <td>457576.2715</td>\n",
       "      <td>76330.7891</td>\n",
       "    </tr>\n",
       "    <tr>\n",
       "      <th>New York</th>\n",
       "      <td>310827.1510</td>\n",
       "      <td>74015.4622</td>\n",
       "    </tr>\n",
       "    <tr>\n",
       "      <th>Texas</th>\n",
       "      <td>170124.5418</td>\n",
       "      <td>-25750.9833</td>\n",
       "    </tr>\n",
       "    <tr>\n",
       "      <th>Washington</th>\n",
       "      <td>138560.8100</td>\n",
       "      <td>33368.2375</td>\n",
       "    </tr>\n",
       "    <tr>\n",
       "      <th>Pennsylvania</th>\n",
       "      <td>116496.3620</td>\n",
       "      <td>-15565.4035</td>\n",
       "    </tr>\n",
       "  </tbody>\n",
       "</table>\n",
       "</div>"
      ],
      "text/plain": [
       "                    Sales      Profit\n",
       "State                                \n",
       "California    457576.2715  76330.7891\n",
       "New York      310827.1510  74015.4622\n",
       "Texas         170124.5418 -25750.9833\n",
       "Washington    138560.8100  33368.2375\n",
       "Pennsylvania  116496.3620 -15565.4035"
      ]
     },
     "execution_count": 57,
     "metadata": {},
     "output_type": "execute_result"
    }
   ],
   "source": [
    "state_sale_profit = df.groupby('State')[['Sales','Profit']].sum()\n",
    "state_sale_profit.head()\n",
    "state_sale_profit.sort_values('Sales', ascending= False, inplace= True)\n",
    "state_sale_profit.head()\n",
    "state_sale_profit.plot(kind=\"bar\", figsize=(25,12), color=['darkviolet','dodgerblue'])\n",
    "plt.title('sales/profit in each state')\n",
    "plt.xticks(rotation=90)\n",
    "plt.xlabel('state')\n",
    "plt.ylabel('sales/profit')\n",
    "plt.show()\n",
    "state_sale_profit.head()"
   ]
  },
  {
   "cell_type": "markdown",
   "id": "70f091c7",
   "metadata": {},
   "source": [
    "We notice that quite a few of the states undergo an overall loss. Texas, which has the third-highest sales, witnesses a loss. Pennsylvania (fifth-highest sales) also witnesses a loss. Other states that witness a loss are; Florida, Illinois, Ohio, North Carolina, Arizona, Colorado, Tennessee.\n",
    "\n",
    "California has the highest profit and a close second is New York.\n",
    "\n",
    "Out of the top 10 states with the highest sales, 5 undergo an overall loss.\n",
    "\n",
    "Let's observe the count plot for Sub-Categories."
   ]
  },
  {
   "cell_type": "code",
   "execution_count": 51,
   "id": "d1d4ba2d",
   "metadata": {},
   "outputs": [
    {
     "data": {
      "image/png": "[encoded data removed]",
      "text/plain": [
       "<Figure size 1440x576 with 1 Axes>"
      ]
     },
     "metadata": {
      "needs_background": "light"
     },
     "output_type": "display_data"
    }
   ],
   "source": [
    "plt.figure(figsize=(20,8))\n",
    "sns.countplot(df['Sub-Category'], order=df['Sub-Category'].value_counts().index, palette= 'plasma')\n",
    "plt.title('Order-Count by Sub-category')\n",
    "plt.xticks(rotation=90)\n",
    "plt.xlabel('Sub-Category')\n",
    "plt.ylabel('orders')\n",
    "plt.show()"
   ]
  },
  {
   "cell_type": "code",
   "execution_count": 60,
   "id": "a1d48de3",
   "metadata": {},
   "outputs": [
    {
     "data": {
      "image/png": "[encoded data removed]",
      "text/plain": [
       "<Figure size 1440x576 with 1 Axes>"
      ]
     },
     "metadata": {
      "needs_background": "light"
     },
     "output_type": "display_data"
    }
   ],
   "source": [
    "subcategory_sale_profit = df.groupby('Sub-Category')[['Sales','Profit']].sum()\n",
    "subcategory_sale_profit.sort_values('Sales', ascending=False, inplace=True)\n",
    "subcategory_sale_profit.plot(kind=\"bar\",color=[\"rebeccapurple\",\"mediumpurple\"],figsize=(20,8))\n",
    "plt.title('Sales/Profit in each Sub-Category')\n",
    "plt.xlabel('Category')\n",
    "plt.ylabel('Sales/Profit')\n",
    "plt.show()\n",
    " "
   ]
  },
  {
   "cell_type": "code",
   "execution_count": 62,
   "id": "e810e42f",
   "metadata": {},
   "outputs": [
    {
     "data": {
      "text/html": [
       "<div>\n",
       "<style scoped>\n",
       "    .dataframe tbody tr th:only-of-type {\n",
       "        vertical-align: middle;\n",
       "    }\n",
       "\n",
       "    .dataframe tbody tr th {\n",
       "        vertical-align: top;\n",
       "    }\n",
       "\n",
       "    .dataframe thead th {\n",
       "        text-align: right;\n",
       "    }\n",
       "</style>\n",
       "<table border=\"1\" class=\"dataframe\">\n",
       "  <thead>\n",
       "    <tr style=\"text-align: right;\">\n",
       "      <th></th>\n",
       "      <th>Category</th>\n",
       "      <th>Sub-Category</th>\n",
       "      <th>Sales</th>\n",
       "      <th>Profit</th>\n",
       "    </tr>\n",
       "  </thead>\n",
       "  <tbody>\n",
       "    <tr>\n",
       "      <th>0</th>\n",
       "      <td>Furniture</td>\n",
       "      <td>Bookcases</td>\n",
       "      <td>114879.9963</td>\n",
       "      <td>-3472.5560</td>\n",
       "    </tr>\n",
       "    <tr>\n",
       "      <th>1</th>\n",
       "      <td>Furniture</td>\n",
       "      <td>Chairs</td>\n",
       "      <td>327777.7610</td>\n",
       "      <td>26567.1278</td>\n",
       "    </tr>\n",
       "    <tr>\n",
       "      <th>2</th>\n",
       "      <td>Furniture</td>\n",
       "      <td>Furnishings</td>\n",
       "      <td>91683.0240</td>\n",
       "      <td>13052.7230</td>\n",
       "    </tr>\n",
       "    <tr>\n",
       "      <th>3</th>\n",
       "      <td>Furniture</td>\n",
       "      <td>Tables</td>\n",
       "      <td>206965.5320</td>\n",
       "      <td>-17725.4811</td>\n",
       "    </tr>\n",
       "    <tr>\n",
       "      <th>4</th>\n",
       "      <td>Office Supplies</td>\n",
       "      <td>Appliances</td>\n",
       "      <td>107532.1610</td>\n",
       "      <td>18138.0054</td>\n",
       "    </tr>\n",
       "    <tr>\n",
       "      <th>5</th>\n",
       "      <td>Office Supplies</td>\n",
       "      <td>Art</td>\n",
       "      <td>27107.0320</td>\n",
       "      <td>6524.6118</td>\n",
       "    </tr>\n",
       "    <tr>\n",
       "      <th>6</th>\n",
       "      <td>Office Supplies</td>\n",
       "      <td>Binders</td>\n",
       "      <td>203409.1690</td>\n",
       "      <td>30228.0003</td>\n",
       "    </tr>\n",
       "    <tr>\n",
       "      <th>7</th>\n",
       "      <td>Office Supplies</td>\n",
       "      <td>Envelopes</td>\n",
       "      <td>16476.4020</td>\n",
       "      <td>6964.1767</td>\n",
       "    </tr>\n",
       "    <tr>\n",
       "      <th>8</th>\n",
       "      <td>Office Supplies</td>\n",
       "      <td>Fasteners</td>\n",
       "      <td>3024.2800</td>\n",
       "      <td>949.5182</td>\n",
       "    </tr>\n",
       "    <tr>\n",
       "      <th>9</th>\n",
       "      <td>Office Supplies</td>\n",
       "      <td>Labels</td>\n",
       "      <td>12444.9120</td>\n",
       "      <td>5526.3820</td>\n",
       "    </tr>\n",
       "    <tr>\n",
       "      <th>10</th>\n",
       "      <td>Office Supplies</td>\n",
       "      <td>Paper</td>\n",
       "      <td>78224.1420</td>\n",
       "      <td>33944.2395</td>\n",
       "    </tr>\n",
       "    <tr>\n",
       "      <th>11</th>\n",
       "      <td>Office Supplies</td>\n",
       "      <td>Storage</td>\n",
       "      <td>223843.6080</td>\n",
       "      <td>21278.8264</td>\n",
       "    </tr>\n",
       "    <tr>\n",
       "      <th>12</th>\n",
       "      <td>Office Supplies</td>\n",
       "      <td>Supplies</td>\n",
       "      <td>46673.5380</td>\n",
       "      <td>-1189.0995</td>\n",
       "    </tr>\n",
       "    <tr>\n",
       "      <th>13</th>\n",
       "      <td>Technology</td>\n",
       "      <td>Accessories</td>\n",
       "      <td>167380.3180</td>\n",
       "      <td>41936.6357</td>\n",
       "    </tr>\n",
       "    <tr>\n",
       "      <th>14</th>\n",
       "      <td>Technology</td>\n",
       "      <td>Copiers</td>\n",
       "      <td>149528.0300</td>\n",
       "      <td>55617.8249</td>\n",
       "    </tr>\n",
       "    <tr>\n",
       "      <th>15</th>\n",
       "      <td>Technology</td>\n",
       "      <td>Machines</td>\n",
       "      <td>189238.6310</td>\n",
       "      <td>3384.7569</td>\n",
       "    </tr>\n",
       "    <tr>\n",
       "      <th>16</th>\n",
       "      <td>Technology</td>\n",
       "      <td>Phones</td>\n",
       "      <td>330007.0540</td>\n",
       "      <td>44515.7306</td>\n",
       "    </tr>\n",
       "  </tbody>\n",
       "</table>\n",
       "</div>"
      ],
      "text/plain": [
       "           Category Sub-Category        Sales      Profit\n",
       "0         Furniture    Bookcases  114879.9963  -3472.5560\n",
       "1         Furniture       Chairs  327777.7610  26567.1278\n",
       "2         Furniture  Furnishings   91683.0240  13052.7230\n",
       "3         Furniture       Tables  206965.5320 -17725.4811\n",
       "4   Office Supplies   Appliances  107532.1610  18138.0054\n",
       "5   Office Supplies          Art   27107.0320   6524.6118\n",
       "6   Office Supplies      Binders  203409.1690  30228.0003\n",
       "7   Office Supplies    Envelopes   16476.4020   6964.1767\n",
       "8   Office Supplies    Fasteners    3024.2800    949.5182\n",
       "9   Office Supplies       Labels   12444.9120   5526.3820\n",
       "10  Office Supplies        Paper   78224.1420  33944.2395\n",
       "11  Office Supplies      Storage  223843.6080  21278.8264\n",
       "12  Office Supplies     Supplies   46673.5380  -1189.0995\n",
       "13       Technology  Accessories  167380.3180  41936.6357\n",
       "14       Technology      Copiers  149528.0300  55617.8249\n",
       "15       Technology     Machines  189238.6310   3384.7569\n",
       "16       Technology       Phones  330007.0540  44515.7306"
      ]
     },
     "execution_count": 62,
     "metadata": {},
     "output_type": "execute_result"
    }
   ],
   "source": [
    "cat_sub_cat = df.groupby(['Category','Sub-Category'])[['Sales','Profit']].sum().reset_index()\n",
    "cat_sub_cat"
   ]
  },
  {
   "cell_type": "markdown",
   "id": "19006c3d",
   "metadata": {},
   "source": [
    "We can see that while the sales for tables is the fourth-highest, it still undergoes the highest overall loss. Bookcases also witness a loss. Supplies witness the least loss. The profit incurred for machines is low.\n",
    "\n",
    "Let's now observe the sales and profit of each sub-category separated by segment."
   ]
  },
  {
   "cell_type": "code",
   "execution_count": 63,
   "id": "35994a48",
   "metadata": {},
   "outputs": [
    {
     "data": {
      "text/html": [
       "<div>\n",
       "<style scoped>\n",
       "    .dataframe tbody tr th:only-of-type {\n",
       "        vertical-align: middle;\n",
       "    }\n",
       "\n",
       "    .dataframe tbody tr th {\n",
       "        vertical-align: top;\n",
       "    }\n",
       "\n",
       "    .dataframe thead th {\n",
       "        text-align: right;\n",
       "    }\n",
       "</style>\n",
       "<table border=\"1\" class=\"dataframe\">\n",
       "  <thead>\n",
       "    <tr style=\"text-align: right;\">\n",
       "      <th></th>\n",
       "      <th>Sub-Category</th>\n",
       "      <th>Segment</th>\n",
       "      <th>Quantity</th>\n",
       "      <th>Sales</th>\n",
       "      <th>Profit</th>\n",
       "    </tr>\n",
       "  </thead>\n",
       "  <tbody>\n",
       "    <tr>\n",
       "      <th>0</th>\n",
       "      <td>Accessories</td>\n",
       "      <td>Consumer</td>\n",
       "      <td>1578</td>\n",
       "      <td>87105.2380</td>\n",
       "      <td>20735.9225</td>\n",
       "    </tr>\n",
       "    <tr>\n",
       "      <th>1</th>\n",
       "      <td>Accessories</td>\n",
       "      <td>Corporate</td>\n",
       "      <td>881</td>\n",
       "      <td>48190.5640</td>\n",
       "      <td>12707.4805</td>\n",
       "    </tr>\n",
       "    <tr>\n",
       "      <th>2</th>\n",
       "      <td>Accessories</td>\n",
       "      <td>Home Office</td>\n",
       "      <td>517</td>\n",
       "      <td>32084.5160</td>\n",
       "      <td>8493.2327</td>\n",
       "    </tr>\n",
       "    <tr>\n",
       "      <th>3</th>\n",
       "      <td>Appliances</td>\n",
       "      <td>Consumer</td>\n",
       "      <td>908</td>\n",
       "      <td>52819.5810</td>\n",
       "      <td>6981.9282</td>\n",
       "    </tr>\n",
       "    <tr>\n",
       "      <th>4</th>\n",
       "      <td>Appliances</td>\n",
       "      <td>Corporate</td>\n",
       "      <td>569</td>\n",
       "      <td>36588.6830</td>\n",
       "      <td>7429.8952</td>\n",
       "    </tr>\n",
       "    <tr>\n",
       "      <th>5</th>\n",
       "      <td>Appliances</td>\n",
       "      <td>Home Office</td>\n",
       "      <td>252</td>\n",
       "      <td>18123.8970</td>\n",
       "      <td>3726.1820</td>\n",
       "    </tr>\n",
       "    <tr>\n",
       "      <th>6</th>\n",
       "      <td>Art</td>\n",
       "      <td>Consumer</td>\n",
       "      <td>1625</td>\n",
       "      <td>14251.9300</td>\n",
       "      <td>3454.3011</td>\n",
       "    </tr>\n",
       "    <tr>\n",
       "      <th>7</th>\n",
       "      <td>Art</td>\n",
       "      <td>Corporate</td>\n",
       "      <td>846</td>\n",
       "      <td>8578.6880</td>\n",
       "      <td>2001.4725</td>\n",
       "    </tr>\n",
       "    <tr>\n",
       "      <th>8</th>\n",
       "      <td>Art</td>\n",
       "      <td>Home Office</td>\n",
       "      <td>525</td>\n",
       "      <td>4276.4140</td>\n",
       "      <td>1068.8382</td>\n",
       "    </tr>\n",
       "    <tr>\n",
       "      <th>9</th>\n",
       "      <td>Binders</td>\n",
       "      <td>Consumer</td>\n",
       "      <td>3015</td>\n",
       "      <td>118161.0090</td>\n",
       "      <td>17995.5972</td>\n",
       "    </tr>\n",
       "    <tr>\n",
       "      <th>10</th>\n",
       "      <td>Binders</td>\n",
       "      <td>Corporate</td>\n",
       "      <td>1845</td>\n",
       "      <td>51556.7490</td>\n",
       "      <td>6383.5571</td>\n",
       "    </tr>\n",
       "    <tr>\n",
       "      <th>11</th>\n",
       "      <td>Binders</td>\n",
       "      <td>Home Office</td>\n",
       "      <td>1111</td>\n",
       "      <td>33691.4110</td>\n",
       "      <td>5848.8460</td>\n",
       "    </tr>\n",
       "    <tr>\n",
       "      <th>12</th>\n",
       "      <td>Bookcases</td>\n",
       "      <td>Consumer</td>\n",
       "      <td>496</td>\n",
       "      <td>68632.7290</td>\n",
       "      <td>-4435.6382</td>\n",
       "    </tr>\n",
       "    <tr>\n",
       "      <th>13</th>\n",
       "      <td>Bookcases</td>\n",
       "      <td>Corporate</td>\n",
       "      <td>271</td>\n",
       "      <td>34005.9243</td>\n",
       "      <td>638.4502</td>\n",
       "    </tr>\n",
       "    <tr>\n",
       "      <th>14</th>\n",
       "      <td>Bookcases</td>\n",
       "      <td>Home Office</td>\n",
       "      <td>101</td>\n",
       "      <td>12241.3430</td>\n",
       "      <td>324.6320</td>\n",
       "    </tr>\n",
       "    <tr>\n",
       "      <th>15</th>\n",
       "      <td>Chairs</td>\n",
       "      <td>Consumer</td>\n",
       "      <td>1231</td>\n",
       "      <td>172472.7720</td>\n",
       "      <td>13200.2346</td>\n",
       "    </tr>\n",
       "    <tr>\n",
       "      <th>16</th>\n",
       "      <td>Chairs</td>\n",
       "      <td>Corporate</td>\n",
       "      <td>719</td>\n",
       "      <td>99140.8780</td>\n",
       "      <td>8344.6565</td>\n",
       "    </tr>\n",
       "    <tr>\n",
       "      <th>17</th>\n",
       "      <td>Chairs</td>\n",
       "      <td>Home Office</td>\n",
       "      <td>401</td>\n",
       "      <td>56164.1110</td>\n",
       "      <td>5022.2367</td>\n",
       "    </tr>\n",
       "    <tr>\n",
       "      <th>18</th>\n",
       "      <td>Copiers</td>\n",
       "      <td>Consumer</td>\n",
       "      <td>117</td>\n",
       "      <td>69819.0700</td>\n",
       "      <td>24083.7106</td>\n",
       "    </tr>\n",
       "    <tr>\n",
       "      <th>19</th>\n",
       "      <td>Copiers</td>\n",
       "      <td>Corporate</td>\n",
       "      <td>70</td>\n",
       "      <td>46829.3860</td>\n",
       "      <td>18990.2789</td>\n",
       "    </tr>\n",
       "    <tr>\n",
       "      <th>20</th>\n",
       "      <td>Copiers</td>\n",
       "      <td>Home Office</td>\n",
       "      <td>47</td>\n",
       "      <td>32879.5740</td>\n",
       "      <td>12543.8354</td>\n",
       "    </tr>\n",
       "    <tr>\n",
       "      <th>21</th>\n",
       "      <td>Envelopes</td>\n",
       "      <td>Consumer</td>\n",
       "      <td>442</td>\n",
       "      <td>7771.1460</td>\n",
       "      <td>3264.4126</td>\n",
       "    </tr>\n",
       "    <tr>\n",
       "      <th>22</th>\n",
       "      <td>Envelopes</td>\n",
       "      <td>Corporate</td>\n",
       "      <td>323</td>\n",
       "      <td>5942.6700</td>\n",
       "      <td>2571.2290</td>\n",
       "    </tr>\n",
       "    <tr>\n",
       "      <th>23</th>\n",
       "      <td>Envelopes</td>\n",
       "      <td>Home Office</td>\n",
       "      <td>141</td>\n",
       "      <td>2762.5860</td>\n",
       "      <td>1128.5351</td>\n",
       "    </tr>\n",
       "    <tr>\n",
       "      <th>24</th>\n",
       "      <td>Fasteners</td>\n",
       "      <td>Consumer</td>\n",
       "      <td>473</td>\n",
       "      <td>1680.9420</td>\n",
       "      <td>576.8008</td>\n",
       "    </tr>\n",
       "    <tr>\n",
       "      <th>25</th>\n",
       "      <td>Fasteners</td>\n",
       "      <td>Corporate</td>\n",
       "      <td>273</td>\n",
       "      <td>783.2900</td>\n",
       "      <td>251.9030</td>\n",
       "    </tr>\n",
       "    <tr>\n",
       "      <th>26</th>\n",
       "      <td>Fasteners</td>\n",
       "      <td>Home Office</td>\n",
       "      <td>168</td>\n",
       "      <td>560.0480</td>\n",
       "      <td>120.8144</td>\n",
       "    </tr>\n",
       "    <tr>\n",
       "      <th>27</th>\n",
       "      <td>Furnishings</td>\n",
       "      <td>Consumer</td>\n",
       "      <td>1834</td>\n",
       "      <td>49620.0460</td>\n",
       "      <td>7919.4227</td>\n",
       "    </tr>\n",
       "    <tr>\n",
       "      <th>28</th>\n",
       "      <td>Furnishings</td>\n",
       "      <td>Corporate</td>\n",
       "      <td>1086</td>\n",
       "      <td>25001.2660</td>\n",
       "      <td>3508.2077</td>\n",
       "    </tr>\n",
       "    <tr>\n",
       "      <th>29</th>\n",
       "      <td>Furnishings</td>\n",
       "      <td>Home Office</td>\n",
       "      <td>640</td>\n",
       "      <td>17061.7120</td>\n",
       "      <td>1625.0926</td>\n",
       "    </tr>\n",
       "    <tr>\n",
       "      <th>30</th>\n",
       "      <td>Labels</td>\n",
       "      <td>Consumer</td>\n",
       "      <td>715</td>\n",
       "      <td>6709.2620</td>\n",
       "      <td>3075.9884</td>\n",
       "    </tr>\n",
       "    <tr>\n",
       "      <th>31</th>\n",
       "      <td>Labels</td>\n",
       "      <td>Corporate</td>\n",
       "      <td>398</td>\n",
       "      <td>4101.6460</td>\n",
       "      <td>1760.8273</td>\n",
       "    </tr>\n",
       "    <tr>\n",
       "      <th>32</th>\n",
       "      <td>Labels</td>\n",
       "      <td>Home Office</td>\n",
       "      <td>283</td>\n",
       "      <td>1634.0040</td>\n",
       "      <td>689.5663</td>\n",
       "    </tr>\n",
       "    <tr>\n",
       "      <th>33</th>\n",
       "      <td>Machines</td>\n",
       "      <td>Consumer</td>\n",
       "      <td>217</td>\n",
       "      <td>79542.8250</td>\n",
       "      <td>2141.0618</td>\n",
       "    </tr>\n",
       "    <tr>\n",
       "      <th>34</th>\n",
       "      <td>Machines</td>\n",
       "      <td>Corporate</td>\n",
       "      <td>141</td>\n",
       "      <td>60276.7550</td>\n",
       "      <td>703.0190</td>\n",
       "    </tr>\n",
       "    <tr>\n",
       "      <th>35</th>\n",
       "      <td>Machines</td>\n",
       "      <td>Home Office</td>\n",
       "      <td>82</td>\n",
       "      <td>49419.0510</td>\n",
       "      <td>540.6761</td>\n",
       "    </tr>\n",
       "    <tr>\n",
       "      <th>36</th>\n",
       "      <td>Paper</td>\n",
       "      <td>Consumer</td>\n",
       "      <td>2581</td>\n",
       "      <td>36145.7680</td>\n",
       "      <td>15457.9730</td>\n",
       "    </tr>\n",
       "    <tr>\n",
       "      <th>37</th>\n",
       "      <td>Paper</td>\n",
       "      <td>Corporate</td>\n",
       "      <td>1545</td>\n",
       "      <td>23822.2180</td>\n",
       "      <td>10334.3308</td>\n",
       "    </tr>\n",
       "    <tr>\n",
       "      <th>38</th>\n",
       "      <td>Paper</td>\n",
       "      <td>Home Office</td>\n",
       "      <td>1018</td>\n",
       "      <td>18256.1560</td>\n",
       "      <td>8151.9357</td>\n",
       "    </tr>\n",
       "    <tr>\n",
       "      <th>39</th>\n",
       "      <td>Phones</td>\n",
       "      <td>Consumer</td>\n",
       "      <td>1685</td>\n",
       "      <td>169932.7640</td>\n",
       "      <td>23837.1147</td>\n",
       "    </tr>\n",
       "    <tr>\n",
       "      <th>40</th>\n",
       "      <td>Phones</td>\n",
       "      <td>Corporate</td>\n",
       "      <td>1003</td>\n",
       "      <td>91153.4140</td>\n",
       "      <td>11766.2196</td>\n",
       "    </tr>\n",
       "    <tr>\n",
       "      <th>41</th>\n",
       "      <td>Phones</td>\n",
       "      <td>Home Office</td>\n",
       "      <td>601</td>\n",
       "      <td>68920.8760</td>\n",
       "      <td>8912.3963</td>\n",
       "    </tr>\n",
       "    <tr>\n",
       "      <th>42</th>\n",
       "      <td>Storage</td>\n",
       "      <td>Consumer</td>\n",
       "      <td>1619</td>\n",
       "      <td>100492.4020</td>\n",
       "      <td>7104.2004</td>\n",
       "    </tr>\n",
       "    <tr>\n",
       "      <th>43</th>\n",
       "      <td>Storage</td>\n",
       "      <td>Corporate</td>\n",
       "      <td>1000</td>\n",
       "      <td>79790.9980</td>\n",
       "      <td>9131.0247</td>\n",
       "    </tr>\n",
       "    <tr>\n",
       "      <th>44</th>\n",
       "      <td>Storage</td>\n",
       "      <td>Home Office</td>\n",
       "      <td>539</td>\n",
       "      <td>43560.2080</td>\n",
       "      <td>5043.6013</td>\n",
       "    </tr>\n",
       "    <tr>\n",
       "      <th>45</th>\n",
       "      <td>Supplies</td>\n",
       "      <td>Consumer</td>\n",
       "      <td>359</td>\n",
       "      <td>25741.4960</td>\n",
       "      <td>-1657.5513</td>\n",
       "    </tr>\n",
       "    <tr>\n",
       "      <th>46</th>\n",
       "      <td>Supplies</td>\n",
       "      <td>Corporate</td>\n",
       "      <td>202</td>\n",
       "      <td>19435.2840</td>\n",
       "      <td>338.9264</td>\n",
       "    </tr>\n",
       "    <tr>\n",
       "      <th>47</th>\n",
       "      <td>Supplies</td>\n",
       "      <td>Home Office</td>\n",
       "      <td>86</td>\n",
       "      <td>1496.7580</td>\n",
       "      <td>129.5254</td>\n",
       "    </tr>\n",
       "    <tr>\n",
       "      <th>48</th>\n",
       "      <td>Tables</td>\n",
       "      <td>Consumer</td>\n",
       "      <td>602</td>\n",
       "      <td>99933.7950</td>\n",
       "      <td>-9728.0378</td>\n",
       "    </tr>\n",
       "    <tr>\n",
       "      <th>49</th>\n",
       "      <td>Tables</td>\n",
       "      <td>Corporate</td>\n",
       "      <td>419</td>\n",
       "      <td>70871.7175</td>\n",
       "      <td>-4906.4986</td>\n",
       "    </tr>\n",
       "    <tr>\n",
       "      <th>50</th>\n",
       "      <td>Tables</td>\n",
       "      <td>Home Office</td>\n",
       "      <td>220</td>\n",
       "      <td>36160.0195</td>\n",
       "      <td>-3090.9447</td>\n",
       "    </tr>\n",
       "  </tbody>\n",
       "</table>\n",
       "</div>"
      ],
      "text/plain": [
       "   Sub-Category      Segment  Quantity        Sales      Profit\n",
       "0   Accessories     Consumer      1578   87105.2380  20735.9225\n",
       "1   Accessories    Corporate       881   48190.5640  12707.4805\n",
       "2   Accessories  Home Office       517   32084.5160   8493.2327\n",
       "3    Appliances     Consumer       908   52819.5810   6981.9282\n",
       "4    Appliances    Corporate       569   36588.6830   7429.8952\n",
       "5    Appliances  Home Office       252   18123.8970   3726.1820\n",
       "6           Art     Consumer      1625   14251.9300   3454.3011\n",
       "7           Art    Corporate       846    8578.6880   2001.4725\n",
       "8           Art  Home Office       525    4276.4140   1068.8382\n",
       "9       Binders     Consumer      3015  118161.0090  17995.5972\n",
       "10      Binders    Corporate      1845   51556.7490   6383.5571\n",
       "11      Binders  Home Office      1111   33691.4110   5848.8460\n",
       "12    Bookcases     Consumer       496   68632.7290  -4435.6382\n",
       "13    Bookcases    Corporate       271   34005.9243    638.4502\n",
       "14    Bookcases  Home Office       101   12241.3430    324.6320\n",
       "15       Chairs     Consumer      1231  172472.7720  13200.2346\n",
       "16       Chairs    Corporate       719   99140.8780   8344.6565\n",
       "17       Chairs  Home Office       401   56164.1110   5022.2367\n",
       "18      Copiers     Consumer       117   69819.0700  24083.7106\n",
       "19      Copiers    Corporate        70   46829.3860  18990.2789\n",
       "20      Copiers  Home Office        47   32879.5740  12543.8354\n",
       "21    Envelopes     Consumer       442    7771.1460   3264.4126\n",
       "22    Envelopes    Corporate       323    5942.6700   2571.2290\n",
       "23    Envelopes  Home Office       141    2762.5860   1128.5351\n",
       "24    Fasteners     Consumer       473    1680.9420    576.8008\n",
       "25    Fasteners    Corporate       273     783.2900    251.9030\n",
       "26    Fasteners  Home Office       168     560.0480    120.8144\n",
       "27  Furnishings     Consumer      1834   49620.0460   7919.4227\n",
       "28  Furnishings    Corporate      1086   25001.2660   3508.2077\n",
       "29  Furnishings  Home Office       640   17061.7120   1625.0926\n",
       "30       Labels     Consumer       715    6709.2620   3075.9884\n",
       "31       Labels    Corporate       398    4101.6460   1760.8273\n",
       "32       Labels  Home Office       283    1634.0040    689.5663\n",
       "33     Machines     Consumer       217   79542.8250   2141.0618\n",
       "34     Machines    Corporate       141   60276.7550    703.0190\n",
       "35     Machines  Home Office        82   49419.0510    540.6761\n",
       "36        Paper     Consumer      2581   36145.7680  15457.9730\n",
       "37        Paper    Corporate      1545   23822.2180  10334.3308\n",
       "38        Paper  Home Office      1018   18256.1560   8151.9357\n",
       "39       Phones     Consumer      1685  169932.7640  23837.1147\n",
       "40       Phones    Corporate      1003   91153.4140  11766.2196\n",
       "41       Phones  Home Office       601   68920.8760   8912.3963\n",
       "42      Storage     Consumer      1619  100492.4020   7104.2004\n",
       "43      Storage    Corporate      1000   79790.9980   9131.0247\n",
       "44      Storage  Home Office       539   43560.2080   5043.6013\n",
       "45     Supplies     Consumer       359   25741.4960  -1657.5513\n",
       "46     Supplies    Corporate       202   19435.2840    338.9264\n",
       "47     Supplies  Home Office        86    1496.7580    129.5254\n",
       "48       Tables     Consumer       602   99933.7950  -9728.0378\n",
       "49       Tables    Corporate       419   70871.7175  -4906.4986\n",
       "50       Tables  Home Office       220   36160.0195  -3090.9447"
      ]
     },
     "execution_count": 63,
     "metadata": {},
     "output_type": "execute_result"
    }
   ],
   "source": [
    "sub_seg =df.groupby(['Sub-Category', 'Segment'])[['Quantity','Sales','Profit']].sum().reset_index()\n",
    "sub_seg"
   ]
  },
  {
   "cell_type": "code",
   "execution_count": 64,
   "id": "e7436991",
   "metadata": {},
   "outputs": [
    {
     "data": {
      "image/png": "[encoded data removed]",
      "text/plain": [
       "<Figure size 1249.88x576 with 1 Axes>"
      ]
     },
     "metadata": {
      "needs_background": "light"
     },
     "output_type": "display_data"
    },
    {
     "data": {
      "image/png": "[encoded data removed]",
      "text/plain": [
       "<Figure size 1249.88x576 with 1 Axes>"
      ]
     },
     "metadata": {
      "needs_background": "light"
     },
     "output_type": "display_data"
    }
   ],
   "source": [
    "sns.catplot('Sub-Category', y='Sales', hue = 'Segment', data = sub_seg, kind='bar',palette='tab20c',aspect=2,height=8)\n",
    "plt.title('Sub-Category Sales Segment-wise')\n",
    "sns.catplot('Sub-Category', y='Profit', hue = 'Segment',data = sub_seg, kind='bar',palette='tab20c',aspect=2,height=8)\n",
    "plt.title('Sub-Category Profit Segment-wise')\n",
    "plt.show()"
   ]
  },
  {
   "cell_type": "markdown",
   "id": "669f1a94",
   "metadata": {},
   "source": [
    "The first plot represents the Sales and the second plot represents Profit. We can clearly see that tables undergo a loss in each segment. Bookcases and supplies undergo a loss in the Consumer segment.\n",
    "\n",
    "Let's plot a scatter plot for Discount vs. Profit."
   ]
  },
  {
   "cell_type": "code",
   "execution_count": 65,
   "id": "9a8caa7a",
   "metadata": {},
   "outputs": [
    {
     "data": {
      "image/png": "[encoded data removed]",
      "text/plain": [
       "<Figure size 432x288 with 1 Axes>"
      ]
     },
     "metadata": {
      "needs_background": "light"
     },
     "output_type": "display_data"
    }
   ],
   "source": [
    "plt.scatter(df['Discount'], df['Profit'])\n",
    "plt.title('Discount vs. Profit')\n",
    "plt.xlabel('Discount')\n",
    "plt.ylabel('Profit')\n",
    "plt.show()"
   ]
  },
  {
   "cell_type": "markdown",
   "id": "15974945",
   "metadata": {},
   "source": [
    "We can observe that more the dicsount, lesser the profit."
   ]
  },
  {
   "cell_type": "code",
   "execution_count": 67,
   "id": "514c3cdd",
   "metadata": {},
   "outputs": [
    {
     "data": {
      "text/plain": [
       "28.69012955798336"
      ]
     },
     "execution_count": 67,
     "metadata": {},
     "output_type": "execute_result"
    }
   ],
   "source": [
    "np.mean(df['Profit'])"
   ]
  },
  {
   "cell_type": "markdown",
   "id": "f7d5c0c0",
   "metadata": {},
   "source": [
    "The average profit of the firm is 28.69, which is low. But,atleast the firm is not operating at a loss."
   ]
  },
  {
   "cell_type": "markdown",
   "id": "94c5218e",
   "metadata": {},
   "source": [
    "# Inferences"
   ]
  },
  {
   "cell_type": "markdown",
   "id": "8b3cd3b5",
   "metadata": {},
   "source": [
    " 1) In Shipping Modes, the most profitable and the most preferred shipping mode is the Standard Class. \n",
    " 2) The Consumer Segment is the most profitable and has the most number of buyers.  \n",
    " 3) The Western region has the most sales and profit. However, the Central region has the least profit, and the Southern region has the least sales.\n",
    " 4) Office Supplies has the highest frequency of purchases. Technology has the most sales and is the most profitable. Furniture has the least profit although it has the second-highest sales.\n",
    " 5) Within Furniture, Tables in all segments undergoes heavy losses, and Tables also accounts for the highest loss amongst any other product. Bookcases in the Consumer segment witnesses losses.\n",
    " 6) In Office Supplies, Supplies undergoes a loss in the Consumer Segment.\n",
    " 7) In Office Supplies, Appliances has more sales in the Consumer segment than in the other segments. But the profit from Corporate segment is higher than that from Consumer segment.\n",
    " 8) In technology, although Machines have a pretty decent sales, the resultant profit is low. However, copiers and accessories compensate for that.\n",
    " 9) Out of the top 10 states with the highest sales, 5 undergo an overall loss. \n",
    " 10) Texas, which has the third-highest sales, witnesses the highest loss.\n",
    " 11) The profit for both California and New York is more or less the same. But California has the highest sales, and New York the second highest. Therefore, we can say that for the same amount of sales, New York is more profitable.\n",
    " 12) A general observation is that more the sales, more the profit. \n",
    " 13) More the discount, lesser the profit. \n",
    " 14) The firm is operating at a low average profit of 28.69. But atleast it is not operating at a loss."
   ]
  },
  {
   "cell_type": "markdown",
   "id": "986981fd",
   "metadata": {},
   "source": [
    "# THANK YOU"
   ]
  },
  {
   "cell_type": "code",
   "execution_count": null,
   "id": "78dc2db5",
   "metadata": {},
   "outputs": [],
   "source": []
  }
 ],
 "metadata": {
  "kernelspec": {
   "display_name": "Python 3 (ipykernel)",
   "language": "python",
   "name": "python3"
  },
  "language_info": {
   "codemirror_mode": {
    "name": "ipython",
    "version": 3
   },
   "file_extension": ".py",
   "mimetype": "text/x-python",
   "name": "python",
   "nbconvert_exporter": "python",
   "pygments_lexer": "ipython3",
   "version": "3.10.1"
  }
 },
 "nbformat": 4,
 "nbformat_minor": 5
}
